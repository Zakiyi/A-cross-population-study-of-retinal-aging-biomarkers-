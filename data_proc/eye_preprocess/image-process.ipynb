{
 "cells": [
  {
   "cell_type": "code",
   "execution_count": 1,
   "metadata": {},
   "outputs": [
    {
     "name": "stdout",
     "output_type": "stream",
     "text": [
      "cv version: 4.5.1\n",
      "length files: 185106\n",
      "zero-size array to reduction operation maximum which has no identity\n",
      "/home/vision/data/zaoying-predict/fundus2022/1_2_826_0_1_3680043_9_5115_636295459378500888-2_25_253256944144417604270429045638053371628.jpg\n",
      "zero-size array to reduction operation maximum which has no identity\n",
      "/home/vision/data/zaoying-predict/fundus2022/1_2_826_0_1_3680043_9_5115_636197025156934748-2_25_66906265953391645252487705401357854398.jpg\n",
      "zero-size array to reduction operation maximum which has no identity\n",
      "/home/vision/data/zaoying-predict/fundus2022/1_2_826_0_1_3680043_9_5115_636881293393888578-2_25_297831087033586610148000356117648665899.jpg\n",
      "zero-size array to reduction operation maximum which has no identity\n",
      "/home/vision/data/zaoying-predict/fundus2022/1_2_276_0_7230010_5760693801373077440122000-1_2_276_0_7230010_31443121924155623624826000.jpg\n",
      "zero-size array to reduction operation maximum which has no identity\n",
      "/home/vision/data/zaoying-predict/fundus2022/1_2_826_0_1_3680043_9_5115_636927070766955105-1_2_392_200106_1651_4_2_60082130120144203_1558078764_172.jpg\n",
      "zero-size array to reduction operation maximum which has no identity\n",
      "/home/vision/data/zaoying-predict/fundus2022/1_2_826_0_1_3680043_9_5115_636827755533302159-1_2_392_200106_1651_4_2_60082130120144203_1547197885_149.jpg\n",
      "zero-size array to reduction operation maximum which has no identity\n",
      "/home/vision/data/zaoying-predict/fundus2022/1_2_826_0_1_3680043_9_5115_636259375089075034-2_25_210169127495407197305985012849105700490.jpg\n",
      "zero-size array to reduction operation maximum which has no identity\n",
      "/home/vision/data/zaoying-predict/fundus2022/1_2_826_0_1_3680043_9_5115_636259375089075034-2_25_339988236287156053018216898423042383153.jpg\n",
      "zero-size array to reduction operation maximum which has no identity\n",
      "/home/vision/data/zaoying-predict/fundus2022/1_2_826_0_1_3680043_9_5115_636259375089075034-2_25_149530677398730727018730935921965679572.jpg\n",
      "zero-size array to reduction operation maximum which has no identity\n",
      "/home/vision/data/zaoying-predict/fundus2022/1_2_276_0_7230010_57606938013730529621517000-1_2_276_0_7230010_3144312192415565964342000.jpg\n",
      "zero-size array to reduction operation maximum which has no identity\n",
      "/home/vision/data/zaoying-predict/fundus2022/1_2_826_0_1_3680043_9_5115_636295447653678277-2_25_241473320038573206860162102523408566713.jpg\n",
      "zero-size array to reduction operation maximum which has no identity\n",
      "/home/vision/data/zaoying-predict/fundus2022/1_2_826_0_1_3680043_9_5115_637060080445684869-2_25_177282817642103978051497695819673459050.jpg\n",
      "zero-size array to reduction operation maximum which has no identity\n",
      "/home/vision/data/zaoying-predict/fundus2022/2_25_7758198704633261676_103672488958321153_94555762017051110367-2_25_312469447408315240291015515145944910403.jpg\n",
      "zero-size array to reduction operation maximum which has no identity\n",
      "/home/vision/data/zaoying-predict/fundus2022/1_2_826_0_1_3680043_9_5115_636972043297294032-1_2_392_200106_1651_4_2_60082130120144203_1561623937_192.jpg\n",
      "zero-size array to reduction operation maximum which has no identity\n",
      "/home/vision/data/zaoying-predict/fundus2022/1_2_826_0_1_3680043_9_5115_636873565407283558-1_2_392_200106_1651_4_2_60082130120144203_1551775806_266.jpg\n"
     ]
    },
    {
     "name": "stderr",
     "output_type": "stream",
     "text": [
      "/home/vision/workspace/fundus_quality/EyeQ_preprocess/fundus_prep.py:55: RuntimeWarning: Mean of empty slice.\n",
      "  center[0]=np.where(x>x.max()*0.95)[0].mean()\n",
      "/home/vision/.pyenv-tf2.0/lib/python3.6/site-packages/numpy/core/_methods.py:170: RuntimeWarning: invalid value encountered in double_scalars\n",
      "  ret = ret.dtype.type(ret / rcount)\n",
      "/home/vision/workspace/fundus_quality/EyeQ_preprocess/fundus_prep.py:57: RuntimeWarning: Mean of empty slice.\n",
      "  center[1]=np.where(x>x.max()*0.95)[0].mean()\n"
     ]
    },
    {
     "name": "stdout",
     "output_type": "stream",
     "text": [
      "zero-size array to reduction operation maximum which has no identity\n",
      "/home/vision/data/zaoying-predict/fundus2022/1_2_276_0_7230010_57606938013730386452454000-1_2_276_0_7230010_31443121924155659650951000.jpg\n",
      "zero-size array to reduction operation maximum which has no identity\n",
      "/home/vision/data/zaoying-predict/fundus2022/1_2_826_0_1_3680043_9_5115_636806353623926091-1_2_392_200106_1651_4_2_60082130120144203_1552445583_97.jpg\n",
      "zero-size array to reduction operation maximum which has no identity\n",
      "/home/vision/data/zaoying-predict/fundus2022/1_2_392_200106_1651_4_2_60082130120144203_43519_2294-1_2_392_200106_1651_4_2_60082130120144203_1551062551_56.jpg\n",
      "zero-size array to reduction operation maximum which has no identity\n",
      "/home/vision/data/zaoying-predict/fundus2022/1_2_276_0_7230010_57606938013730363655701000-1_2_276_0_7230010_3144312192415565964951000.jpg\n"
     ]
    },
    {
     "name": "stderr",
     "output_type": "stream",
     "text": [
      "/home/vision/workspace/fundus_quality/EyeQ_preprocess/fundus_prep.py:55: RuntimeWarning: Mean of empty slice.\n",
      "  center[0]=np.where(x>x.max()*0.95)[0].mean()\n",
      "/home/vision/.pyenv-tf2.0/lib/python3.6/site-packages/numpy/core/_methods.py:170: RuntimeWarning: invalid value encountered in double_scalars\n",
      "  ret = ret.dtype.type(ret / rcount)\n",
      "/home/vision/workspace/fundus_quality/EyeQ_preprocess/fundus_prep.py:57: RuntimeWarning: Mean of empty slice.\n",
      "  center[1]=np.where(x>x.max()*0.95)[0].mean()\n"
     ]
    },
    {
     "name": "stdout",
     "output_type": "stream",
     "text": [
      "zero-size array to reduction operation maximum which has no identity\n",
      "/home/vision/data/zaoying-predict/fundus2022/1_2_276_0_7230010_5760693801373026322279000-1_2_276_0_7230010_31443121924155659640894000.jpg\n",
      "zero-size array to reduction operation maximum which has no identity\n",
      "/home/vision/data/zaoying-predict/fundus2022/1_2_276_0_7230010_57606938013730529621517000-1_2_276_0_7230010_31443121924155659614530000.jpg\n",
      "zero-size array to reduction operation maximum which has no identity\n",
      "/home/vision/data/zaoying-predict/fundus2022/1_2_826_0_1_3680043_9_5115_636287062835262554-2_25_293275633386098708456354530776838436931.jpg\n",
      "zero-size array to reduction operation maximum which has no identity\n",
      "/home/vision/data/zaoying-predict/fundus2022/1_2_276_0_75_2_3_20_1_1_161202093208187_109953207645-1_2_276_0_75_2_3_20_1_3_161202094722906_109953207645.jpg\n",
      "zero-size array to reduction operation maximum which has no identity\n",
      "/home/vision/data/zaoying-predict/fundus2022/1_2_276_0_7230010_5760693801373052763213000-1_2_276_0_7230010_3144312192415565965660000.jpg\n",
      "zero-size array to reduction operation maximum which has no identity\n",
      "/home/vision/data/zaoying-predict/fundus2022/1_2_826_0_1_3680043_9_5115_636162663270566402-1_2_276_0_75_2_3_20_1_3_161202092357343_109953207645.jpg\n",
      "zero-size array to reduction operation maximum which has no identity\n",
      "/home/vision/data/zaoying-predict/fundus2022/1_2_826_0_1_3680043_9_5115_636904578472397654-1_2_392_200106_1651_4_2_60082130120144203_1554863725_78.jpg\n"
     ]
    },
    {
     "name": "stderr",
     "output_type": "stream",
     "text": [
      "/home/vision/workspace/fundus_quality/EyeQ_preprocess/fundus_prep.py:55: RuntimeWarning: Mean of empty slice.\n",
      "  center[0]=np.where(x>x.max()*0.95)[0].mean()\n",
      "/home/vision/.pyenv-tf2.0/lib/python3.6/site-packages/numpy/core/_methods.py:170: RuntimeWarning: invalid value encountered in double_scalars\n",
      "  ret = ret.dtype.type(ret / rcount)\n",
      "/home/vision/workspace/fundus_quality/EyeQ_preprocess/fundus_prep.py:57: RuntimeWarning: Mean of empty slice.\n",
      "  center[1]=np.where(x>x.max()*0.95)[0].mean()\n"
     ]
    },
    {
     "name": "stdout",
     "output_type": "stream",
     "text": [
      "zero-size array to reduction operation maximum which has no identity\n",
      "/home/vision/data/zaoying-predict/fundus2022/1_2_276_0_7230010_57606938013730542810553000-1_2_276_0_7230010_31443121924155623648488000.jpg\n",
      "zero-size array to reduction operation maximum which has no identity\n",
      "/home/vision/data/zaoying-predict/fundus2022/1_2_276_0_7230010_576069380137303104169000-1_2_276_0_7230010_31443121924155659624949000.jpg\n",
      "zero-size array to reduction operation maximum which has no identity\n",
      "/home/vision/data/zaoying-predict/fundus2022/1_2_276_0_75_2_3_20_1_1_161202093208187_109953207645-1_2_276_0_75_2_3_20_1_3_161202094031734_109953207645.jpg\n",
      "zero-size array to reduction operation maximum which has no identity\n",
      "/home/vision/data/zaoying-predict/fundus2022/1_2_826_0_1_3680043_9_5115_636893324624418007-1_2_392_200106_1651_4_2_60082130120144203_1553743591_142.jpg\n",
      "zero-size array to reduction operation maximum which has no identity\n",
      "/home/vision/data/zaoying-predict/fundus2022/1_2_392_200106_1651_4_2_60082130120144203_43519_2294-1_2_392_200106_1651_4_2_60082130120144203_1551062558_61.jpg\n",
      "zero-size array to reduction operation maximum which has no identity\n",
      "/home/vision/data/zaoying-predict/fundus2022/1_2_826_0_1_3680043_9_5115_636885780666881135-1_2_392_200106_1651_4_2_60082130120144203_1552985059_253.jpg\n",
      "zero-size array to reduction operation maximum which has no identity\n",
      "/home/vision/data/zaoying-predict/fundus2022/1_2_826_0_1_3680043_9_5115_636877193843521261-1_2_392_200106_1651_4_2_60082130120144203_1552555528_264.jpg\n",
      "zero-size array to reduction operation maximum which has no identity\n",
      "/home/vision/data/zaoying-predict/fundus2022/1_2_826_0_1_3680043_9_5115_636977200273913568-1_2_392_200106_1651_4_2_60082130120144203_1562141691_180.jpg\n",
      "zero-size array to reduction operation maximum which has no identity\n",
      "/home/vision/data/zaoying-predict/fundus2022/1_2_826_0_1_3680043_9_5115_636162663270566402-1_2_392_200106_1651_4_2_72015207052198220_1482117614_32.jpg\n",
      "zero-size array to reduction operation maximum which has no identity\n",
      "/home/vision/data/zaoying-predict/fundus2022/1_2_826_0_1_3680043_9_5115_636842339596305917-1_2_392_200106_1651_4_2_60082130120144203_1551153560_169.jpg\n",
      "zero-size array to reduction operation maximum which has no identity\n",
      "/home/vision/data/zaoying-predict/fundus2022/1_2_392_200106_1651_4_2_60082130120144203_43519_2294-1_2_392_200106_1651_4_2_60082130120144203_1551062553_57.jpg\n",
      "zero-size array to reduction operation maximum which has no identity\n",
      "/home/vision/data/zaoying-predict/fundus2022/1_2_826_0_1_3680043_9_5115_636875393414227993-1_2_392_200106_1651_4_2_60082130120144203_1551949916_261.jpg\n",
      "zero-size array to reduction operation maximum which has no identity\n",
      "/home/vision/data/zaoying-predict/fundus2022/1_2_826_0_1_3680043_9_5115_636259375089075034-2_25_226816049009403941607422131162462212731.jpg\n",
      "zero-size array to reduction operation maximum which has no identity\n",
      "/home/vision/data/zaoying-predict/fundus2022/1_2_392_200106_1651_4_2_60082130120144203_43519_2294-1_2_392_200106_1651_4_2_60082130120144203_1551062556_59.jpg\n",
      "zero-size array to reduction operation maximum which has no identity\n",
      "/home/vision/data/zaoying-predict/fundus2022/1_2_826_0_1_3680043_9_5115_636866506842341764-1_2_392_200106_1651_4_2_60082130120144203_1551059286_36.jpg\n",
      "zero-size array to reduction operation maximum which has no identity\n",
      "/home/vision/data/zaoying-predict/fundus2022/1_2_392_200106_1651_4_2_60082130120144203_43519_2294-1_2_392_200106_1651_4_2_60082130120144203_1551062557_60.jpg\n",
      "zero-size array to reduction operation maximum which has no identity\n",
      "/home/vision/data/zaoying-predict/fundus2022/1_2_826_0_1_3680043_9_5115_636891877345480985-1_2_392_200106_1651_4_2_60082130120144203_1553654416_117.jpg\n"
     ]
    },
    {
     "name": "stderr",
     "output_type": "stream",
     "text": [
      "/home/vision/workspace/fundus_quality/EyeQ_preprocess/fundus_prep.py:55: RuntimeWarning: Mean of empty slice.\n",
      "  center[0]=np.where(x>x.max()*0.95)[0].mean()\n",
      "/home/vision/.pyenv-tf2.0/lib/python3.6/site-packages/numpy/core/_methods.py:170: RuntimeWarning: invalid value encountered in double_scalars\n",
      "  ret = ret.dtype.type(ret / rcount)\n",
      "/home/vision/workspace/fundus_quality/EyeQ_preprocess/fundus_prep.py:57: RuntimeWarning: Mean of empty slice.\n",
      "  center[1]=np.where(x>x.max()*0.95)[0].mean()\n"
     ]
    },
    {
     "name": "stdout",
     "output_type": "stream",
     "text": [
      "zero-size array to reduction operation maximum which has no identity\n",
      "/home/vision/data/zaoying-predict/fundus2022/1_2_276_0_7230010_57606938013730459256253000-1_2_276_0_7230010_31443121924155623623340000.jpg\n",
      "zero-size array to reduction operation maximum which has no identity\n",
      "/home/vision/data/zaoying-predict/fundus2022/1_2_826_0_1_3680043_9_5115_636825172593554552-2_25_253554717516420110579750187959308276529.jpg\n",
      "zero-size array to reduction operation maximum which has no identity\n",
      "/home/vision/data/zaoying-predict/fundus2022/1_2_826_0_1_3680043_9_5115_636884722280775902-1_2_392_200106_1651_4_2_60082130120144203_1552879022_108.jpg\n"
     ]
    },
    {
     "name": "stderr",
     "output_type": "stream",
     "text": [
      "/home/vision/workspace/fundus_quality/EyeQ_preprocess/fundus_prep.py:55: RuntimeWarning: Mean of empty slice.\n",
      "  center[0]=np.where(x>x.max()*0.95)[0].mean()\n",
      "/home/vision/.pyenv-tf2.0/lib/python3.6/site-packages/numpy/core/_methods.py:170: RuntimeWarning: invalid value encountered in double_scalars\n",
      "  ret = ret.dtype.type(ret / rcount)\n",
      "/home/vision/workspace/fundus_quality/EyeQ_preprocess/fundus_prep.py:57: RuntimeWarning: Mean of empty slice.\n",
      "  center[1]=np.where(x>x.max()*0.95)[0].mean()\n"
     ]
    },
    {
     "name": "stdout",
     "output_type": "stream",
     "text": [
      "zero-size array to reduction operation maximum which has no identity\n",
      "/home/vision/data/zaoying-predict/fundus2022/1_2_276_0_7230010_576069380137301916165000-1_2_276_0_7230010_31443121924155659649153000.jpg\n",
      "zero-size array to reduction operation maximum which has no identity\n",
      "/home/vision/data/zaoying-predict/fundus2022/1_2_276_0_7230010_5760693801373052457266000-1_2_276_0_7230010_31443121924155102802799000.jpg\n",
      "zero-size array to reduction operation maximum which has no identity\n",
      "/home/vision/data/zaoying-predict/fundus2022/1_2_826_0_1_3680043_9_5115_636918610151149606-1_2_392_200106_1651_4_2_60082130120144203_1556267922_268.jpg\n",
      "zero-size array to reduction operation maximum which has no identity\n",
      "/home/vision/data/zaoying-predict/fundus2022/1_2_392_200106_1651_4_2_60082130120144203_43477_2024-1_2_392_200106_1651_4_2_60082130120144203_1547457862_215.jpg\n",
      "zero-size array to reduction operation maximum which has no identity\n",
      "/home/vision/data/zaoying-predict/fundus2022/1_2_826_0_1_3680043_9_5115_636860557613338305-1_2_392_200106_1651_4_2_60082130120144203_1550477802_242.jpg\n",
      "zero-size array to reduction operation maximum which has no identity\n",
      "/home/vision/data/zaoying-predict/fundus2022/1_2_826_0_1_3680043_9_5115_637048829324546949-1_2_392_200106_1651_4_2_60082130120144203_1569289478_37.jpg\n",
      "zero-size array to reduction operation maximum which has no identity\n",
      "/home/vision/data/zaoying-predict/fundus2022/1_2_826_0_1_3680043_9_5115_636825287462933000-2_25_218641913029320683761928686910652576456.jpg\n",
      "zero-size array to reduction operation maximum which has no identity\n",
      "/home/vision/data/zaoying-predict/fundus2022/1_2_826_0_1_3680043_9_5115_637061821254146437-2_25_147585698949706910710751875597113068885.jpg\n",
      "zero-size array to reduction operation maximum which has no identity\n",
      "/home/vision/data/zaoying-predict/fundus2022/1_2_826_0_1_3680043_9_5115_636836423389885964-1_2_392_200106_1651_4_2_60082130120144203_1548064962_265.jpg\n",
      "zero-size array to reduction operation maximum which has no identity\n",
      "/home/vision/data/zaoying-predict/fundus2022/1_2_826_0_1_3680043_9_5115_636162663270566402-1_2_276_0_75_2_3_20_1_3_161202092402640_109953207645.jpg\n",
      "zero-size array to reduction operation maximum which has no identity\n",
      "/home/vision/data/zaoying-predict/fundus2022/1_2_826_0_1_3680043_9_5115_637037733372940665-2_25_255019202266475002075204129794156022246.jpg\n",
      "zero-size array to reduction operation maximum which has no identity\n",
      "/home/vision/data/zaoying-predict/fundus2022/1_2_826_0_1_3680043_9_5115_636162663270566402-1_2_392_200106_1651_4_2_72015207052198220_1482117610_29.jpg\n",
      "zero-size array to reduction operation maximum which has no identity\n",
      "/home/vision/data/zaoying-predict/fundus2022/1_2_276_0_75_2_3_20_1_1_161202095313171_109953207645-1_2_276_0_75_2_3_20_1_3_161202095320875_109953207645.jpg\n"
     ]
    },
    {
     "name": "stderr",
     "output_type": "stream",
     "text": [
      "/home/vision/workspace/fundus_quality/EyeQ_preprocess/fundus_prep.py:55: RuntimeWarning: Mean of empty slice.\n",
      "  center[0]=np.where(x>x.max()*0.95)[0].mean()\n",
      "/home/vision/.pyenv-tf2.0/lib/python3.6/site-packages/numpy/core/_methods.py:170: RuntimeWarning: invalid value encountered in double_scalars\n",
      "  ret = ret.dtype.type(ret / rcount)\n",
      "/home/vision/workspace/fundus_quality/EyeQ_preprocess/fundus_prep.py:57: RuntimeWarning: Mean of empty slice.\n",
      "  center[1]=np.where(x>x.max()*0.95)[0].mean()\n"
     ]
    },
    {
     "name": "stdout",
     "output_type": "stream",
     "text": [
      "zero-size array to reduction operation maximum which has no identity\n",
      "/home/vision/data/zaoying-predict/fundus2022/1_2_276_0_7230010_57606938013730477254635000-1_2_276_0_7230010_314431219241552749613630000.jpg\n",
      "zero-size array to reduction operation maximum which has no identity\n",
      "/home/vision/data/zaoying-predict/fundus2022/2_25_7975486395314515055_2328734365927956768_9151616120515342328-2_25_298640477291491240024669309207432395378.jpg\n",
      "zero-size array to reduction operation maximum which has no identity\n",
      "/home/vision/data/zaoying-predict/fundus2022/1_2_826_0_1_3680043_9_5115_636870217831631247-1_2_392_200106_1651_4_2_60082130120144203_1551427094_159.jpg\n",
      "zero-size array to reduction operation maximum which has no identity\n",
      "/home/vision/data/zaoying-predict/fundus2022/1_2_826_0_1_3680043_9_5115_636872699840851553-1_2_392_200106_1651_4_2_60082130120144203_1551772648_205.jpg\n",
      "zero-size array to reduction operation maximum which has no identity\n",
      "/home/vision/data/zaoying-predict/fundus2022/1_2_826_0_1_3680043_9_5115_636975478003981126-1_2_392_200106_1651_4_2_60082130120144203_1561951468_112.jpg\n",
      "zero-size array to reduction operation maximum which has no identity\n",
      "/home/vision/data/zaoying-predict/fundus2022/1_2_276_0_75_2_3_20_1_1_161202095313171_109953207645-1_2_276_0_75_2_3_20_1_3_161202095318078_109953207645.jpg\n",
      "zero-size array to reduction operation maximum which has no identity\n",
      "/home/vision/data/zaoying-predict/fundus2022/1_2_826_0_1_3680043_9_5115_636825172572650515-2_25_268837969328568405682940463002116660152.jpg\n",
      "zero-size array to reduction operation maximum which has no identity\n",
      "/home/vision/data/zaoying-predict/fundus2022/1_2_276_0_7230010_5760693801373077440122000-1_2_276_0_7230010_31443121924155623633562000.jpg\n",
      "zero-size array to reduction operation maximum which has no identity\n",
      "/home/vision/data/zaoying-predict/fundus2022/1_2_826_0_1_3680043_9_5115_636259375089075034-2_25_314848688679168674968983737941419239776.jpg\n",
      "zero-size array to reduction operation maximum which has no identity\n",
      "/home/vision/data/zaoying-predict/fundus2022/1_2_276_0_7230010_57606938013730519650337000-1_2_276_0_7230010_314431219241551028041789000.jpg\n",
      "zero-size array to reduction operation maximum which has no identity\n",
      "/home/vision/data/zaoying-predict/fundus2022/1_2_276_0_75_2_3_20_1_1_161202093208187_109953207645-1_2_276_0_75_2_3_20_1_3_161202093217765_109953207645.jpg\n",
      "zero-size array to reduction operation maximum which has no identity\n",
      "/home/vision/data/zaoying-predict/fundus2022/1_2_826_0_1_3680043_9_5115_636936773654657042-1_2_392_200106_1651_4_2_60082130120144203_1558083793_242.jpg\n",
      "zero-size array to reduction operation maximum which has no identity\n",
      "/home/vision/data/zaoying-predict/fundus2022/1_2_826_0_1_3680043_9_5115_636882162167001277-1_2_392_200106_1651_4_2_60082130120144203_1552623889_64.jpg\n",
      "zero-size array to reduction operation maximum which has no identity\n",
      "/home/vision/data/zaoying-predict/fundus2022/1_2_392_200106_1651_4_2_60082130120144203_43519_2294-1_2_392_200106_1651_4_2_60082130120144203_1551062554_58.jpg\n",
      "zero-size array to reduction operation maximum which has no identity\n",
      "/home/vision/data/zaoying-predict/fundus2022/1_2_826_0_1_3680043_9_5115_636918559788538373-1_2_392_200106_1651_4_2_60082130120144203_1556500994_61.jpg\n",
      "zero-size array to reduction operation maximum which has no identity\n",
      "/home/vision/data/zaoying-predict/fundus2022/1_2_826_0_1_3680043_9_5115_636842373206914970-1_2_392_200106_1651_4_2_60082130120144203_1548643857_98.jpg\n",
      "it took 7769.879 seconds\n",
      "valid processed:  185031\n"
     ]
    }
   ],
   "source": [
    "import fundus_prep as prep\n",
    "import glob\n",
    "import os\n",
    "import cv2\n",
    "from PIL import ImageFile\n",
    "import multiprocessing as mp\n",
    "from multiprocessing import cpu_count\n",
    "import time, pickle, os, shutil, math\n",
    "\n",
    "ImageFile.LOAD_TRUNCATED_IMAGES = True\n",
    "\n",
    "def process(item):\n",
    "    src = item[0]\n",
    "    dst = item[1]\n",
    "    try:\n",
    "        img = prep.imread(src)\n",
    "        # cv2 imread\n",
    "        # BGR -> RGB\n",
    "        r_img, borders, mask = prep.process_without_gb(img)\n",
    "        r_img = cv2.resize(r_img, (800, 800))\n",
    "        prep.imwrite(dst, r_img)\n",
    "        \n",
    "        return dst\n",
    "    except Exception as e:\n",
    "        print(e)\n",
    "        print(src)\n",
    "        return None\n",
    "\n",
    "def main():\n",
    "    print('cv version:', cv2.__version__)\n",
    "    working_path = '/home/vision/data/zaoying-predict/square-fill-800/'\n",
    "    image_dir = '/home/vision/data/zaoying-predict/fundus2022/'\n",
    "    \n",
    "    src_dst = []\n",
    "    for item in os.listdir(image_dir):\n",
    "        src_dst.append((image_dir + item, os.path.join( working_path, item)))\n",
    "\n",
    "    pool = mp.Pool(cpu_count())\n",
    "    if not os.path.exists(working_path):\n",
    "        # shutil.rmtree(working_path)\n",
    "        os.mkdir(working_path)\n",
    "        \n",
    "    path_labels = src_dst \n",
    "    print(\"length files: %d\" % len(path_labels))\n",
    "    start_time = time.time()\n",
    "    rs = pool.map(process, path_labels)\n",
    "    print(\"it took %.3f seconds\" % ( time.time() - start_time))\n",
    "\n",
    "    valid_results = list(filter(lambda x: x is not None, rs))\n",
    "    print(\"valid processed: \", len(valid_results))\n",
    "\n",
    "if __name__ == \"__main__\":\n",
    "    main()"
   ]
  }
 ],
 "metadata": {
  "kernelspec": {
   "display_name": "Python 3",
   "language": "python",
   "name": "python3"
  },
  "language_info": {
   "codemirror_mode": {
    "name": "ipython",
    "version": 3
   },
   "file_extension": ".py",
   "mimetype": "text/x-python",
   "name": "python",
   "nbconvert_exporter": "python",
   "pygments_lexer": "ipython3",
   "version": "3.6.9"
  }
 },
 "nbformat": 4,
 "nbformat_minor": 2
}
